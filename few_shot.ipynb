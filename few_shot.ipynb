{
 "cells": [
  {
   "cell_type": "code",
   "execution_count": 125,
   "id": "92159e93",
   "metadata": {},
   "outputs": [],
   "source": [
    "import pandas as pd \n",
    "import openai"
   ]
  },
  {
   "cell_type": "code",
   "execution_count": 126,
   "id": "6ee286e4",
   "metadata": {},
   "outputs": [],
   "source": [
    "javat=pd.read_excel(r\"C:\\Users\\IRezgui\\Desktop\\excel\\javah.xlsx\")\n",
    "csharpt=pd.read_excel(r\"C:\\Users\\IRezgui\\Desktop\\excel\\c#h.xlsx\")"
   ]
  },
  {
   "cell_type": "code",
   "execution_count": 127,
   "id": "0e54d419",
   "metadata": {},
   "outputs": [
    {
     "data": {
      "text/html": [
       "<div>\n",
       "<style scoped>\n",
       "    .dataframe tbody tr th:only-of-type {\n",
       "        vertical-align: middle;\n",
       "    }\n",
       "\n",
       "    .dataframe tbody tr th {\n",
       "        vertical-align: top;\n",
       "    }\n",
       "\n",
       "    .dataframe thead th {\n",
       "        text-align: right;\n",
       "    }\n",
       "</style>\n",
       "<table border=\"1\" class=\"dataframe\">\n",
       "  <thead>\n",
       "    <tr style=\"text-align: right;\">\n",
       "      <th></th>\n",
       "      <th>java</th>\n",
       "    </tr>\n",
       "  </thead>\n",
       "  <tbody>\n",
       "    <tr>\n",
       "      <th>44</th>\n",
       "      <td>List&lt;Integer&gt; list = Arrays.asList(1, 2, 3, 4,...</td>\n",
       "    </tr>\n",
       "    <tr>\n",
       "      <th>45</th>\n",
       "      <td>Map&lt;String, Integer&gt; map = new HashMap&lt;&gt;();</td>\n",
       "    </tr>\n",
       "    <tr>\n",
       "      <th>46</th>\n",
       "      <td>Date date = new Date();</td>\n",
       "    </tr>\n",
       "    <tr>\n",
       "      <th>47</th>\n",
       "      <td>Random random = new Random();</td>\n",
       "    </tr>\n",
       "    <tr>\n",
       "      <th>48</th>\n",
       "      <td>Scanner scanner = new Scanner(System.in);</td>\n",
       "    </tr>\n",
       "  </tbody>\n",
       "</table>\n",
       "</div>"
      ],
      "text/plain": [
       "                                                 java\n",
       "44  List<Integer> list = Arrays.asList(1, 2, 3, 4,...\n",
       "45        Map<String, Integer> map = new HashMap<>();\n",
       "46                            Date date = new Date();\n",
       "47                      Random random = new Random();\n",
       "48          Scanner scanner = new Scanner(System.in);"
      ]
     },
     "execution_count": 127,
     "metadata": {},
     "output_type": "execute_result"
    }
   ],
   "source": [
    "javat.tail()"
   ]
  },
  {
   "cell_type": "code",
   "execution_count": 128,
   "id": "71ea354c",
   "metadata": {},
   "outputs": [
    {
     "data": {
      "text/html": [
       "<div>\n",
       "<style scoped>\n",
       "    .dataframe tbody tr th:only-of-type {\n",
       "        vertical-align: middle;\n",
       "    }\n",
       "\n",
       "    .dataframe tbody tr th {\n",
       "        vertical-align: top;\n",
       "    }\n",
       "\n",
       "    .dataframe thead th {\n",
       "        text-align: right;\n",
       "    }\n",
       "</style>\n",
       "<table border=\"1\" class=\"dataframe\">\n",
       "  <thead>\n",
       "    <tr style=\"text-align: right;\">\n",
       "      <th></th>\n",
       "      <th>c#</th>\n",
       "    </tr>\n",
       "  </thead>\n",
       "  <tbody>\n",
       "    <tr>\n",
       "      <th>44</th>\n",
       "      <td>List&lt;int&gt; list = new List&lt;int&gt; {1, 2, 3, 4, 5};</td>\n",
       "    </tr>\n",
       "    <tr>\n",
       "      <th>45</th>\n",
       "      <td>Dictionary&lt;string, int&gt; map = new Dictionary&lt;s...</td>\n",
       "    </tr>\n",
       "    <tr>\n",
       "      <th>46</th>\n",
       "      <td>DateTime date = DateTime.Now;</td>\n",
       "    </tr>\n",
       "    <tr>\n",
       "      <th>47</th>\n",
       "      <td>Random random = new Random();</td>\n",
       "    </tr>\n",
       "    <tr>\n",
       "      <th>48</th>\n",
       "      <td>Scanner scanner = new Scanner(Console.In);</td>\n",
       "    </tr>\n",
       "  </tbody>\n",
       "</table>\n",
       "</div>"
      ],
      "text/plain": [
       "                                                   c#\n",
       "44    List<int> list = new List<int> {1, 2, 3, 4, 5};\n",
       "45  Dictionary<string, int> map = new Dictionary<s...\n",
       "46                      DateTime date = DateTime.Now;\n",
       "47                      Random random = new Random();\n",
       "48         Scanner scanner = new Scanner(Console.In);"
      ]
     },
     "execution_count": 128,
     "metadata": {},
     "output_type": "execute_result"
    }
   ],
   "source": [
    "csharpt.tail()"
   ]
  },
  {
   "cell_type": "code",
   "execution_count": 129,
   "id": "5490c772",
   "metadata": {},
   "outputs": [],
   "source": [
    "javat[\"c#\"]=csharpt"
   ]
  },
  {
   "cell_type": "code",
   "execution_count": 130,
   "id": "b2b6de60",
   "metadata": {},
   "outputs": [
    {
     "data": {
      "text/html": [
       "<div>\n",
       "<style scoped>\n",
       "    .dataframe tbody tr th:only-of-type {\n",
       "        vertical-align: middle;\n",
       "    }\n",
       "\n",
       "    .dataframe tbody tr th {\n",
       "        vertical-align: top;\n",
       "    }\n",
       "\n",
       "    .dataframe thead th {\n",
       "        text-align: right;\n",
       "    }\n",
       "</style>\n",
       "<table border=\"1\" class=\"dataframe\">\n",
       "  <thead>\n",
       "    <tr style=\"text-align: right;\">\n",
       "      <th></th>\n",
       "      <th>java</th>\n",
       "      <th>c#</th>\n",
       "    </tr>\n",
       "  </thead>\n",
       "  <tbody>\n",
       "    <tr>\n",
       "      <th>0</th>\n",
       "      <td>com.example.package</td>\n",
       "      <td>namespace Com.Example.Package</td>\n",
       "    </tr>\n",
       "    <tr>\n",
       "      <th>1</th>\n",
       "      <td>org.apache.commons.lang3</td>\n",
       "      <td>namespace Org.Apache.Commons.Lang3</td>\n",
       "    </tr>\n",
       "    <tr>\n",
       "      <th>2</th>\n",
       "      <td>java.util.concurrent.atomic</td>\n",
       "      <td>namespace Java.Util.Concurrent.Atomic</td>\n",
       "    </tr>\n",
       "    <tr>\n",
       "      <th>3</th>\n",
       "      <td>javax.swing.text.html.parser</td>\n",
       "      <td>namespace Javax.Swing.Text.Html.Parser</td>\n",
       "    </tr>\n",
       "    <tr>\n",
       "      <th>4</th>\n",
       "      <td>edu.stanford.nlp.parser.lexparser</td>\n",
       "      <td>namespace Edu.Stanford.Nlp.Parser.Lexparser</td>\n",
       "    </tr>\n",
       "  </tbody>\n",
       "</table>\n",
       "</div>"
      ],
      "text/plain": [
       "                                java  \\\n",
       "0                com.example.package   \n",
       "1           org.apache.commons.lang3   \n",
       "2        java.util.concurrent.atomic   \n",
       "3       javax.swing.text.html.parser   \n",
       "4  edu.stanford.nlp.parser.lexparser   \n",
       "\n",
       "                                            c#  \n",
       "0                namespace Com.Example.Package  \n",
       "1           namespace Org.Apache.Commons.Lang3  \n",
       "2        namespace Java.Util.Concurrent.Atomic  \n",
       "3       namespace Javax.Swing.Text.Html.Parser  \n",
       "4  namespace Edu.Stanford.Nlp.Parser.Lexparser  "
      ]
     },
     "execution_count": 130,
     "metadata": {},
     "output_type": "execute_result"
    }
   ],
   "source": [
    "javat.head()"
   ]
  },
  {
   "cell_type": "code",
   "execution_count": 131,
   "id": "45d92e64",
   "metadata": {},
   "outputs": [],
   "source": [
    "trainjava=pd.read_excel(r\"C:\\Users\\IRezgui\\Desktop\\excel\\valid_java.xlsx\")\n",
    "trainc=pd.read_excel(r\"C:\\Users\\IRezgui\\Desktop\\excel\\valid_c#.xlsx\")"
   ]
  },
  {
   "cell_type": "code",
   "execution_count": 132,
   "id": "41c56061",
   "metadata": {},
   "outputs": [
    {
     "data": {
      "text/html": [
       "<div>\n",
       "<style scoped>\n",
       "    .dataframe tbody tr th:only-of-type {\n",
       "        vertical-align: middle;\n",
       "    }\n",
       "\n",
       "    .dataframe tbody tr th {\n",
       "        vertical-align: top;\n",
       "    }\n",
       "\n",
       "    .dataframe thead th {\n",
       "        text-align: right;\n",
       "    }\n",
       "</style>\n",
       "<table border=\"1\" class=\"dataframe\">\n",
       "  <thead>\n",
       "    <tr style=\"text-align: right;\">\n",
       "      <th></th>\n",
       "      <th>c#</th>\n",
       "    </tr>\n",
       "  </thead>\n",
       "  <tbody>\n",
       "    <tr>\n",
       "      <th>0</th>\n",
       "      <td>public DVRecord(RecordInputStream in1){_option...</td>\n",
       "    </tr>\n",
       "    <tr>\n",
       "      <th>1</th>\n",
       "      <td>public override string ToString(){return Patte...</td>\n",
       "    </tr>\n",
       "    <tr>\n",
       "      <th>2</th>\n",
       "      <td>public InsertInstanceRequest(): base(\"Ots\", \"2...</td>\n",
       "    </tr>\n",
       "    <tr>\n",
       "      <th>3</th>\n",
       "      <td>public virtual bool contains(object o){return ...</td>\n",
       "    </tr>\n",
       "    <tr>\n",
       "      <th>4</th>\n",
       "      <td>public java.nio.ByteBuffer encode(string s){re...</td>\n",
       "    </tr>\n",
       "  </tbody>\n",
       "</table>\n",
       "</div>"
      ],
      "text/plain": [
       "                                                  c#\n",
       "0  public DVRecord(RecordInputStream in1){_option...\n",
       "1  public override string ToString(){return Patte...\n",
       "2  public InsertInstanceRequest(): base(\"Ots\", \"2...\n",
       "3  public virtual bool contains(object o){return ...\n",
       "4  public java.nio.ByteBuffer encode(string s){re..."
      ]
     },
     "execution_count": 132,
     "metadata": {},
     "output_type": "execute_result"
    }
   ],
   "source": [
    "trainc.head()"
   ]
  },
  {
   "cell_type": "code",
   "execution_count": 133,
   "id": "849f810f",
   "metadata": {},
   "outputs": [],
   "source": [
    "trainjava[\"c#\"]=trainc"
   ]
  },
  {
   "cell_type": "code",
   "execution_count": null,
   "id": "567e3592",
   "metadata": {},
   "outputs": [],
   "source": []
  },
  {
   "cell_type": "code",
   "execution_count": 134,
   "id": "a59158df",
   "metadata": {},
   "outputs": [],
   "source": [
    "train=pd.concat([trainjava,javat])"
   ]
  },
  {
   "cell_type": "code",
   "execution_count": 135,
   "id": "a9a53c17",
   "metadata": {},
   "outputs": [
    {
     "data": {
      "text/html": [
       "<div>\n",
       "<style scoped>\n",
       "    .dataframe tbody tr th:only-of-type {\n",
       "        vertical-align: middle;\n",
       "    }\n",
       "\n",
       "    .dataframe tbody tr th {\n",
       "        vertical-align: top;\n",
       "    }\n",
       "\n",
       "    .dataframe thead th {\n",
       "        text-align: right;\n",
       "    }\n",
       "</style>\n",
       "<table border=\"1\" class=\"dataframe\">\n",
       "  <thead>\n",
       "    <tr style=\"text-align: right;\">\n",
       "      <th></th>\n",
       "      <th>java</th>\n",
       "      <th>c#</th>\n",
       "    </tr>\n",
       "  </thead>\n",
       "  <tbody>\n",
       "    <tr>\n",
       "      <th>0</th>\n",
       "      <td>public DVRecord(RecordInputStream in) {_option...</td>\n",
       "      <td>public DVRecord(RecordInputStream in1){_option...</td>\n",
       "    </tr>\n",
       "    <tr>\n",
       "      <th>1</th>\n",
       "      <td>public String toString() {return pattern();}</td>\n",
       "      <td>public override string ToString(){return Patte...</td>\n",
       "    </tr>\n",
       "    <tr>\n",
       "      <th>2</th>\n",
       "      <td>public InsertInstanceRequest() {super(\"Ots\", \"...</td>\n",
       "      <td>public InsertInstanceRequest(): base(\"Ots\", \"2...</td>\n",
       "    </tr>\n",
       "    <tr>\n",
       "      <th>3</th>\n",
       "      <td>public boolean contains(Object o) {return inde...</td>\n",
       "      <td>public virtual bool contains(object o){return ...</td>\n",
       "    </tr>\n",
       "    <tr>\n",
       "      <th>4</th>\n",
       "      <td>public final ByteBuffer encode(String s) {retu...</td>\n",
       "      <td>public java.nio.ByteBuffer encode(string s){re...</td>\n",
       "    </tr>\n",
       "  </tbody>\n",
       "</table>\n",
       "</div>"
      ],
      "text/plain": [
       "                                                java  \\\n",
       "0  public DVRecord(RecordInputStream in) {_option...   \n",
       "1       public String toString() {return pattern();}   \n",
       "2  public InsertInstanceRequest() {super(\"Ots\", \"...   \n",
       "3  public boolean contains(Object o) {return inde...   \n",
       "4  public final ByteBuffer encode(String s) {retu...   \n",
       "\n",
       "                                                  c#  \n",
       "0  public DVRecord(RecordInputStream in1){_option...  \n",
       "1  public override string ToString(){return Patte...  \n",
       "2  public InsertInstanceRequest(): base(\"Ots\", \"2...  \n",
       "3  public virtual bool contains(object o){return ...  \n",
       "4  public java.nio.ByteBuffer encode(string s){re...  "
      ]
     },
     "execution_count": 135,
     "metadata": {},
     "output_type": "execute_result"
    }
   ],
   "source": [
    "train.head()"
   ]
  },
  {
   "cell_type": "code",
   "execution_count": 136,
   "id": "d4995f98",
   "metadata": {},
   "outputs": [],
   "source": [
    "train.shape\n",
    "train = train.reset_index(drop=True)\n"
   ]
  },
  {
   "cell_type": "code",
   "execution_count": 137,
   "id": "d295767d",
   "metadata": {},
   "outputs": [
    {
     "data": {
      "text/html": [
       "<div>\n",
       "<style scoped>\n",
       "    .dataframe tbody tr th:only-of-type {\n",
       "        vertical-align: middle;\n",
       "    }\n",
       "\n",
       "    .dataframe tbody tr th {\n",
       "        vertical-align: top;\n",
       "    }\n",
       "\n",
       "    .dataframe thead th {\n",
       "        text-align: right;\n",
       "    }\n",
       "</style>\n",
       "<table border=\"1\" class=\"dataframe\">\n",
       "  <thead>\n",
       "    <tr style=\"text-align: right;\">\n",
       "      <th></th>\n",
       "      <th>java</th>\n",
       "      <th>c#</th>\n",
       "    </tr>\n",
       "  </thead>\n",
       "  <tbody>\n",
       "    <tr>\n",
       "      <th>543</th>\n",
       "      <td>List&lt;Integer&gt; list = Arrays.asList(1, 2, 3, 4,...</td>\n",
       "      <td>List&lt;int&gt; list = new List&lt;int&gt; {1, 2, 3, 4, 5};</td>\n",
       "    </tr>\n",
       "    <tr>\n",
       "      <th>544</th>\n",
       "      <td>Map&lt;String, Integer&gt; map = new HashMap&lt;&gt;();</td>\n",
       "      <td>Dictionary&lt;string, int&gt; map = new Dictionary&lt;s...</td>\n",
       "    </tr>\n",
       "    <tr>\n",
       "      <th>545</th>\n",
       "      <td>Date date = new Date();</td>\n",
       "      <td>DateTime date = DateTime.Now;</td>\n",
       "    </tr>\n",
       "    <tr>\n",
       "      <th>546</th>\n",
       "      <td>Random random = new Random();</td>\n",
       "      <td>Random random = new Random();</td>\n",
       "    </tr>\n",
       "    <tr>\n",
       "      <th>547</th>\n",
       "      <td>Scanner scanner = new Scanner(System.in);</td>\n",
       "      <td>Scanner scanner = new Scanner(Console.In);</td>\n",
       "    </tr>\n",
       "  </tbody>\n",
       "</table>\n",
       "</div>"
      ],
      "text/plain": [
       "                                                  java  \\\n",
       "543  List<Integer> list = Arrays.asList(1, 2, 3, 4,...   \n",
       "544        Map<String, Integer> map = new HashMap<>();   \n",
       "545                            Date date = new Date();   \n",
       "546                      Random random = new Random();   \n",
       "547          Scanner scanner = new Scanner(System.in);   \n",
       "\n",
       "                                                    c#  \n",
       "543    List<int> list = new List<int> {1, 2, 3, 4, 5};  \n",
       "544  Dictionary<string, int> map = new Dictionary<s...  \n",
       "545                      DateTime date = DateTime.Now;  \n",
       "546                      Random random = new Random();  \n",
       "547         Scanner scanner = new Scanner(Console.In);  "
      ]
     },
     "execution_count": 137,
     "metadata": {},
     "output_type": "execute_result"
    }
   ],
   "source": [
    "train.tail()"
   ]
  },
  {
   "cell_type": "code",
   "execution_count": 138,
   "id": "cc9c789e",
   "metadata": {},
   "outputs": [
    {
     "name": "stdout",
     "output_type": "stream",
     "text": [
      "<class 'pandas.core.frame.DataFrame'>\n",
      "RangeIndex: 548 entries, 0 to 547\n",
      "Data columns (total 2 columns):\n",
      " #   Column  Non-Null Count  Dtype \n",
      "---  ------  --------------  ----- \n",
      " 0   java    548 non-null    object\n",
      " 1   c#      548 non-null    object\n",
      "dtypes: object(2)\n",
      "memory usage: 8.7+ KB\n"
     ]
    }
   ],
   "source": [
    "train.info()"
   ]
  },
  {
   "cell_type": "code",
   "execution_count": null,
   "id": "6bd8eacf",
   "metadata": {},
   "outputs": [],
   "source": []
  },
  {
   "cell_type": "code",
   "execution_count": 139,
   "id": "7cb009f3",
   "metadata": {},
   "outputs": [],
   "source": [
    "from transformers import GPT2Tokenizer"
   ]
  },
  {
   "cell_type": "code",
   "execution_count": 140,
   "id": "8a4d766a",
   "metadata": {},
   "outputs": [],
   "source": [
    "tokenizer = GPT2Tokenizer.from_pretrained(\"EleutherAI/gpt-neo-2.7B\")\n"
   ]
  },
  {
   "cell_type": "code",
   "execution_count": 141,
   "id": "8a1dc422",
   "metadata": {},
   "outputs": [],
   "source": [
    "train[\"tokens_java\"]=train[\"java\"].apply(tokenizer.encode)\n",
    "\n",
    "train[\"tokens_c#\"]=train[\"c#\"].apply(tokenizer.encode)"
   ]
  },
  {
   "cell_type": "code",
   "execution_count": 142,
   "id": "a431a020",
   "metadata": {},
   "outputs": [
    {
     "data": {
      "text/html": [
       "<div>\n",
       "<style scoped>\n",
       "    .dataframe tbody tr th:only-of-type {\n",
       "        vertical-align: middle;\n",
       "    }\n",
       "\n",
       "    .dataframe tbody tr th {\n",
       "        vertical-align: top;\n",
       "    }\n",
       "\n",
       "    .dataframe thead th {\n",
       "        text-align: right;\n",
       "    }\n",
       "</style>\n",
       "<table border=\"1\" class=\"dataframe\">\n",
       "  <thead>\n",
       "    <tr style=\"text-align: right;\">\n",
       "      <th></th>\n",
       "      <th>java</th>\n",
       "      <th>c#</th>\n",
       "      <th>tokens_java</th>\n",
       "      <th>tokens_c#</th>\n",
       "    </tr>\n",
       "  </thead>\n",
       "  <tbody>\n",
       "    <tr>\n",
       "      <th>0</th>\n",
       "      <td>public DVRecord(RecordInputStream in) {_option...</td>\n",
       "      <td>public DVRecord(RecordInputStream in1){_option...</td>\n",
       "      <td>[11377, 29854, 23739, 7, 23739, 20560, 12124, ...</td>\n",
       "      <td>[11377, 29854, 23739, 7, 23739, 20560, 12124, ...</td>\n",
       "    </tr>\n",
       "    <tr>\n",
       "      <th>1</th>\n",
       "      <td>public String toString() {return pattern();}</td>\n",
       "      <td>public override string ToString(){return Patte...</td>\n",
       "      <td>[11377, 10903, 284, 10100, 3419, 1391, 7783, 3...</td>\n",
       "      <td>[11377, 20957, 4731, 1675, 10100, 39893, 7783,...</td>\n",
       "    </tr>\n",
       "    <tr>\n",
       "      <th>2</th>\n",
       "      <td>public InsertInstanceRequest() {super(\"Ots\", \"...</td>\n",
       "      <td>public InsertInstanceRequest(): base(\"Ots\", \"2...</td>\n",
       "      <td>[11377, 35835, 33384, 18453, 3419, 1391, 16668...</td>\n",
       "      <td>[11377, 35835, 33384, 18453, 33529, 2779, 7203...</td>\n",
       "    </tr>\n",
       "    <tr>\n",
       "      <th>3</th>\n",
       "      <td>public boolean contains(Object o) {return inde...</td>\n",
       "      <td>public virtual bool contains(object o){return ...</td>\n",
       "      <td>[11377, 25131, 4909, 7, 10267, 267, 8, 1391, 7...</td>\n",
       "      <td>[11377, 7166, 20512, 4909, 7, 15252, 267, 1995...</td>\n",
       "    </tr>\n",
       "    <tr>\n",
       "      <th>4</th>\n",
       "      <td>public final ByteBuffer encode(String s) {retu...</td>\n",
       "      <td>public java.nio.ByteBuffer encode(string s){re...</td>\n",
       "      <td>[11377, 2457, 30589, 28632, 37773, 7, 10100, 2...</td>\n",
       "      <td>[11377, 20129, 13, 77, 952, 13, 40778, 28632, ...</td>\n",
       "    </tr>\n",
       "  </tbody>\n",
       "</table>\n",
       "</div>"
      ],
      "text/plain": [
       "                                                java  \\\n",
       "0  public DVRecord(RecordInputStream in) {_option...   \n",
       "1       public String toString() {return pattern();}   \n",
       "2  public InsertInstanceRequest() {super(\"Ots\", \"...   \n",
       "3  public boolean contains(Object o) {return inde...   \n",
       "4  public final ByteBuffer encode(String s) {retu...   \n",
       "\n",
       "                                                  c#  \\\n",
       "0  public DVRecord(RecordInputStream in1){_option...   \n",
       "1  public override string ToString(){return Patte...   \n",
       "2  public InsertInstanceRequest(): base(\"Ots\", \"2...   \n",
       "3  public virtual bool contains(object o){return ...   \n",
       "4  public java.nio.ByteBuffer encode(string s){re...   \n",
       "\n",
       "                                         tokens_java  \\\n",
       "0  [11377, 29854, 23739, 7, 23739, 20560, 12124, ...   \n",
       "1  [11377, 10903, 284, 10100, 3419, 1391, 7783, 3...   \n",
       "2  [11377, 35835, 33384, 18453, 3419, 1391, 16668...   \n",
       "3  [11377, 25131, 4909, 7, 10267, 267, 8, 1391, 7...   \n",
       "4  [11377, 2457, 30589, 28632, 37773, 7, 10100, 2...   \n",
       "\n",
       "                                           tokens_c#  \n",
       "0  [11377, 29854, 23739, 7, 23739, 20560, 12124, ...  \n",
       "1  [11377, 20957, 4731, 1675, 10100, 39893, 7783,...  \n",
       "2  [11377, 35835, 33384, 18453, 33529, 2779, 7203...  \n",
       "3  [11377, 7166, 20512, 4909, 7, 15252, 267, 1995...  \n",
       "4  [11377, 20129, 13, 77, 952, 13, 40778, 28632, ...  "
      ]
     },
     "execution_count": 142,
     "metadata": {},
     "output_type": "execute_result"
    }
   ],
   "source": [
    "train.head()"
   ]
  },
  {
   "cell_type": "code",
   "execution_count": 143,
   "id": "d66ad3b4",
   "metadata": {},
   "outputs": [],
   "source": [
    "train.to_csv(r\"C:\\Users\\IRezgui\\Desktop\\streamlit\\java_to_c#\"+'.csv', index=True)\n"
   ]
  },
  {
   "cell_type": "code",
   "execution_count": 144,
   "id": "f198031e",
   "metadata": {},
   "outputs": [
    {
     "name": "stdout",
     "output_type": "stream",
     "text": [
      "548\n"
     ]
    }
   ],
   "source": [
    "# there are examples that has long lists of tokens (such as the 7 row ) and there are others with short lists => diversity\n",
    "print(len(train[\"tokens_java\"]))"
   ]
  },
  {
   "cell_type": "code",
   "execution_count": 145,
   "id": "a31a3f27",
   "metadata": {},
   "outputs": [],
   "source": [
    "# from this part starts the vizualization of the collected data\n",
    "import numpy as np\n",
    "import matplotlib.pyplot as plt"
   ]
  },
  {
   "cell_type": "code",
   "execution_count": 146,
   "id": "5f0e1691",
   "metadata": {},
   "outputs": [],
   "source": [
    "\n",
    "length_tokens_java = train['tokens_java'].apply(len)"
   ]
  },
  {
   "cell_type": "code",
   "execution_count": null,
   "id": "6f8f10e5",
   "metadata": {},
   "outputs": [],
   "source": []
  },
  {
   "cell_type": "code",
   "execution_count": null,
   "id": "2efae91e",
   "metadata": {},
   "outputs": [],
   "source": []
  },
  {
   "cell_type": "code",
   "execution_count": 147,
   "id": "e845de1b",
   "metadata": {
    "scrolled": false
   },
   "outputs": [],
   "source": [
    "#When describing these values, you can say that the data has a variance of 2804.8944943996185 and a standard deviation \n",
    "#of 52.9612 ,which indicates a high degree of variability in the text lengths, and thus, a diverse dataset.'''\n"
   ]
  },
  {
   "cell_type": "code",
   "execution_count": 148,
   "id": "a4b96e88",
   "metadata": {},
   "outputs": [],
   "source": [
    "#Interpretation :  one more thing, i do not have to worry about achieving overfitting since this is not a training process\n",
    "#but a fine tuning thing , the model is already pretrained but it lacks sort of guidance , therefore having a diverse dataset \n",
    "#that contains different data would be better since it would cover distinct examples and not similar ones \n",
    "#However you might want to think of checking the similarity/differences in the tokenized lists themselves, because the last\n",
    "#evaluation was based on the differences in the length of each list '''"
   ]
  },
  {
   "cell_type": "code",
   "execution_count": 149,
   "id": "16f09c62",
   "metadata": {},
   "outputs": [],
   "source": [
    "import matplotlib.pyplot as plt"
   ]
  },
  {
   "cell_type": "code",
   "execution_count": 150,
   "id": "acd5db6e",
   "metadata": {},
   "outputs": [],
   "source": [
    "def cosine_similarity(list1, list2):\n",
    "    set1 = set(list1)\n",
    "    set2 = set(list2)\n",
    "    \n",
    "    # Count the occurrences of each element in both sets\n",
    "    counts = {}\n",
    "    for elem in set1.union(set2):\n",
    "        counts[elem] = [elem in set1, elem in set2]\n",
    "    \n",
    "    # Calculate the dot product of the two vectors\n",
    "    dot_product = sum(counts[elem][0] * counts[elem][1] for elem in counts)\n",
    "    \n",
    "    # Calculate the magnitudes of each vector\n",
    "    mag1 = math.sqrt(sum(counts[elem][0] ** 2 for elem in counts))\n",
    "    mag2 = math.sqrt(sum(counts[elem][1] ** 2 for elem in counts))\n",
    "    \n",
    "    # Calculate the cosine similarity\n",
    "    similarity = dot_product / (mag1 * mag2)\n",
    "    \n",
    "    return similarity\n"
   ]
  },
  {
   "cell_type": "code",
   "execution_count": 151,
   "id": "3b9e7b40",
   "metadata": {},
   "outputs": [
    {
     "data": {
      "text/html": [
       "<div>\n",
       "<style scoped>\n",
       "    .dataframe tbody tr th:only-of-type {\n",
       "        vertical-align: middle;\n",
       "    }\n",
       "\n",
       "    .dataframe tbody tr th {\n",
       "        vertical-align: top;\n",
       "    }\n",
       "\n",
       "    .dataframe thead th {\n",
       "        text-align: right;\n",
       "    }\n",
       "</style>\n",
       "<table border=\"1\" class=\"dataframe\">\n",
       "  <thead>\n",
       "    <tr style=\"text-align: right;\">\n",
       "      <th></th>\n",
       "      <th>java</th>\n",
       "      <th>c#</th>\n",
       "      <th>tokens_java</th>\n",
       "      <th>tokens_c#</th>\n",
       "    </tr>\n",
       "  </thead>\n",
       "  <tbody>\n",
       "    <tr>\n",
       "      <th>0</th>\n",
       "      <td>public DVRecord(RecordInputStream in) {_option...</td>\n",
       "      <td>public DVRecord(RecordInputStream in1){_option...</td>\n",
       "      <td>[11377, 29854, 23739, 7, 23739, 20560, 12124, ...</td>\n",
       "      <td>[11377, 29854, 23739, 7, 23739, 20560, 12124, ...</td>\n",
       "    </tr>\n",
       "    <tr>\n",
       "      <th>1</th>\n",
       "      <td>public String toString() {return pattern();}</td>\n",
       "      <td>public override string ToString(){return Patte...</td>\n",
       "      <td>[11377, 10903, 284, 10100, 3419, 1391, 7783, 3...</td>\n",
       "      <td>[11377, 20957, 4731, 1675, 10100, 39893, 7783,...</td>\n",
       "    </tr>\n",
       "    <tr>\n",
       "      <th>2</th>\n",
       "      <td>public InsertInstanceRequest() {super(\"Ots\", \"...</td>\n",
       "      <td>public InsertInstanceRequest(): base(\"Ots\", \"2...</td>\n",
       "      <td>[11377, 35835, 33384, 18453, 3419, 1391, 16668...</td>\n",
       "      <td>[11377, 35835, 33384, 18453, 33529, 2779, 7203...</td>\n",
       "    </tr>\n",
       "    <tr>\n",
       "      <th>3</th>\n",
       "      <td>public boolean contains(Object o) {return inde...</td>\n",
       "      <td>public virtual bool contains(object o){return ...</td>\n",
       "      <td>[11377, 25131, 4909, 7, 10267, 267, 8, 1391, 7...</td>\n",
       "      <td>[11377, 7166, 20512, 4909, 7, 15252, 267, 1995...</td>\n",
       "    </tr>\n",
       "    <tr>\n",
       "      <th>4</th>\n",
       "      <td>public final ByteBuffer encode(String s) {retu...</td>\n",
       "      <td>public java.nio.ByteBuffer encode(string s){re...</td>\n",
       "      <td>[11377, 2457, 30589, 28632, 37773, 7, 10100, 2...</td>\n",
       "      <td>[11377, 20129, 13, 77, 952, 13, 40778, 28632, ...</td>\n",
       "    </tr>\n",
       "  </tbody>\n",
       "</table>\n",
       "</div>"
      ],
      "text/plain": [
       "                                                java  \\\n",
       "0  public DVRecord(RecordInputStream in) {_option...   \n",
       "1       public String toString() {return pattern();}   \n",
       "2  public InsertInstanceRequest() {super(\"Ots\", \"...   \n",
       "3  public boolean contains(Object o) {return inde...   \n",
       "4  public final ByteBuffer encode(String s) {retu...   \n",
       "\n",
       "                                                  c#  \\\n",
       "0  public DVRecord(RecordInputStream in1){_option...   \n",
       "1  public override string ToString(){return Patte...   \n",
       "2  public InsertInstanceRequest(): base(\"Ots\", \"2...   \n",
       "3  public virtual bool contains(object o){return ...   \n",
       "4  public java.nio.ByteBuffer encode(string s){re...   \n",
       "\n",
       "                                         tokens_java  \\\n",
       "0  [11377, 29854, 23739, 7, 23739, 20560, 12124, ...   \n",
       "1  [11377, 10903, 284, 10100, 3419, 1391, 7783, 3...   \n",
       "2  [11377, 35835, 33384, 18453, 3419, 1391, 16668...   \n",
       "3  [11377, 25131, 4909, 7, 10267, 267, 8, 1391, 7...   \n",
       "4  [11377, 2457, 30589, 28632, 37773, 7, 10100, 2...   \n",
       "\n",
       "                                           tokens_c#  \n",
       "0  [11377, 29854, 23739, 7, 23739, 20560, 12124, ...  \n",
       "1  [11377, 20957, 4731, 1675, 10100, 39893, 7783,...  \n",
       "2  [11377, 35835, 33384, 18453, 33529, 2779, 7203...  \n",
       "3  [11377, 7166, 20512, 4909, 7, 15252, 267, 1995...  \n",
       "4  [11377, 20129, 13, 77, 952, 13, 40778, 28632, ...  "
      ]
     },
     "execution_count": 151,
     "metadata": {},
     "output_type": "execute_result"
    }
   ],
   "source": [
    "train.head()"
   ]
  },
  {
   "cell_type": "code",
   "execution_count": null,
   "id": "d7edfb49",
   "metadata": {},
   "outputs": [],
   "source": []
  },
  {
   "cell_type": "code",
   "execution_count": null,
   "id": "3abee13c",
   "metadata": {},
   "outputs": [],
   "source": []
  },
  {
   "cell_type": "code",
   "execution_count": null,
   "id": "05e75a9b",
   "metadata": {},
   "outputs": [],
   "source": [
    "\n"
   ]
  },
  {
   "cell_type": "code",
   "execution_count": 152,
   "id": "1f0b3d70",
   "metadata": {},
   "outputs": [
    {
     "data": {
      "text/html": [
       "<div>\n",
       "<style scoped>\n",
       "    .dataframe tbody tr th:only-of-type {\n",
       "        vertical-align: middle;\n",
       "    }\n",
       "\n",
       "    .dataframe tbody tr th {\n",
       "        vertical-align: top;\n",
       "    }\n",
       "\n",
       "    .dataframe thead th {\n",
       "        text-align: right;\n",
       "    }\n",
       "</style>\n",
       "<table border=\"1\" class=\"dataframe\">\n",
       "  <thead>\n",
       "    <tr style=\"text-align: right;\">\n",
       "      <th></th>\n",
       "      <th>java</th>\n",
       "      <th>c#</th>\n",
       "      <th>tokens_java</th>\n",
       "      <th>tokens_c#</th>\n",
       "    </tr>\n",
       "  </thead>\n",
       "  <tbody>\n",
       "    <tr>\n",
       "      <th>543</th>\n",
       "      <td>List&lt;Integer&gt; list = Arrays.asList(1, 2, 3, 4,...</td>\n",
       "      <td>List&lt;int&gt; list = new List&lt;int&gt; {1, 2, 3, 4, 5};</td>\n",
       "      <td>[8053, 27, 46541, 29, 1351, 796, 943, 20477, 1...</td>\n",
       "      <td>[8053, 27, 600, 29, 1351, 796, 649, 7343, 27, ...</td>\n",
       "    </tr>\n",
       "    <tr>\n",
       "      <th>544</th>\n",
       "      <td>Map&lt;String, Integer&gt; map = new HashMap&lt;&gt;();</td>\n",
       "      <td>Dictionary&lt;string, int&gt; map = new Dictionary&lt;s...</td>\n",
       "      <td>[13912, 27, 10100, 11, 34142, 29, 3975, 796, 6...</td>\n",
       "      <td>[35, 14188, 27, 8841, 11, 493, 29, 3975, 796, ...</td>\n",
       "    </tr>\n",
       "    <tr>\n",
       "      <th>545</th>\n",
       "      <td>Date date = new Date();</td>\n",
       "      <td>DateTime date = DateTime.Now;</td>\n",
       "      <td>[10430, 3128, 796, 649, 7536, 9783]</td>\n",
       "      <td>[10430, 7575, 3128, 796, 7536, 7575, 13, 3844,...</td>\n",
       "    </tr>\n",
       "    <tr>\n",
       "      <th>546</th>\n",
       "      <td>Random random = new Random();</td>\n",
       "      <td>Random random = new Random();</td>\n",
       "      <td>[29531, 4738, 796, 649, 14534, 9783]</td>\n",
       "      <td>[29531, 4738, 796, 649, 14534, 9783]</td>\n",
       "    </tr>\n",
       "    <tr>\n",
       "      <th>547</th>\n",
       "      <td>Scanner scanner = new Scanner(System.in);</td>\n",
       "      <td>Scanner scanner = new Scanner(Console.In);</td>\n",
       "      <td>[33351, 1008, 27474, 796, 649, 20937, 1008, 7,...</td>\n",
       "      <td>[33351, 1008, 27474, 796, 649, 20937, 1008, 7,...</td>\n",
       "    </tr>\n",
       "  </tbody>\n",
       "</table>\n",
       "</div>"
      ],
      "text/plain": [
       "                                                  java  \\\n",
       "543  List<Integer> list = Arrays.asList(1, 2, 3, 4,...   \n",
       "544        Map<String, Integer> map = new HashMap<>();   \n",
       "545                            Date date = new Date();   \n",
       "546                      Random random = new Random();   \n",
       "547          Scanner scanner = new Scanner(System.in);   \n",
       "\n",
       "                                                    c#  \\\n",
       "543    List<int> list = new List<int> {1, 2, 3, 4, 5};   \n",
       "544  Dictionary<string, int> map = new Dictionary<s...   \n",
       "545                      DateTime date = DateTime.Now;   \n",
       "546                      Random random = new Random();   \n",
       "547         Scanner scanner = new Scanner(Console.In);   \n",
       "\n",
       "                                           tokens_java  \\\n",
       "543  [8053, 27, 46541, 29, 1351, 796, 943, 20477, 1...   \n",
       "544  [13912, 27, 10100, 11, 34142, 29, 3975, 796, 6...   \n",
       "545                [10430, 3128, 796, 649, 7536, 9783]   \n",
       "546               [29531, 4738, 796, 649, 14534, 9783]   \n",
       "547  [33351, 1008, 27474, 796, 649, 20937, 1008, 7,...   \n",
       "\n",
       "                                             tokens_c#  \n",
       "543  [8053, 27, 600, 29, 1351, 796, 649, 7343, 27, ...  \n",
       "544  [35, 14188, 27, 8841, 11, 493, 29, 3975, 796, ...  \n",
       "545  [10430, 7575, 3128, 796, 7536, 7575, 13, 3844,...  \n",
       "546               [29531, 4738, 796, 649, 14534, 9783]  \n",
       "547  [33351, 1008, 27474, 796, 649, 20937, 1008, 7,...  "
      ]
     },
     "execution_count": 152,
     "metadata": {},
     "output_type": "execute_result"
    }
   ],
   "source": [
    "train.tail()"
   ]
  },
  {
   "cell_type": "code",
   "execution_count": 153,
   "id": "5399a7f0",
   "metadata": {},
   "outputs": [
    {
     "ename": "KeyError",
     "evalue": "'cosine'",
     "output_type": "error",
     "traceback": [
      "\u001b[1;31m---------------------------------------------------------------------------\u001b[0m",
      "\u001b[1;31mKeyError\u001b[0m                                  Traceback (most recent call last)",
      "File \u001b[1;32m~\\AppData\\Local\\Programs\\Python\\Python311\\Lib\\site-packages\\pandas\\core\\indexes\\base.py:3802\u001b[0m, in \u001b[0;36mIndex.get_loc\u001b[1;34m(self, key, method, tolerance)\u001b[0m\n\u001b[0;32m   3801\u001b[0m \u001b[38;5;28;01mtry\u001b[39;00m:\n\u001b[1;32m-> 3802\u001b[0m     \u001b[38;5;28;01mreturn\u001b[39;00m \u001b[38;5;28;43mself\u001b[39;49m\u001b[38;5;241;43m.\u001b[39;49m\u001b[43m_engine\u001b[49m\u001b[38;5;241;43m.\u001b[39;49m\u001b[43mget_loc\u001b[49m\u001b[43m(\u001b[49m\u001b[43mcasted_key\u001b[49m\u001b[43m)\u001b[49m\n\u001b[0;32m   3803\u001b[0m \u001b[38;5;28;01mexcept\u001b[39;00m \u001b[38;5;167;01mKeyError\u001b[39;00m \u001b[38;5;28;01mas\u001b[39;00m err:\n",
      "File \u001b[1;32m~\\AppData\\Local\\Programs\\Python\\Python311\\Lib\\site-packages\\pandas\\_libs\\index.pyx:138\u001b[0m, in \u001b[0;36mpandas._libs.index.IndexEngine.get_loc\u001b[1;34m()\u001b[0m\n",
      "File \u001b[1;32m~\\AppData\\Local\\Programs\\Python\\Python311\\Lib\\site-packages\\pandas\\_libs\\index.pyx:165\u001b[0m, in \u001b[0;36mpandas._libs.index.IndexEngine.get_loc\u001b[1;34m()\u001b[0m\n",
      "File \u001b[1;32mpandas\\_libs\\hashtable_class_helper.pxi:5745\u001b[0m, in \u001b[0;36mpandas._libs.hashtable.PyObjectHashTable.get_item\u001b[1;34m()\u001b[0m\n",
      "File \u001b[1;32mpandas\\_libs\\hashtable_class_helper.pxi:5753\u001b[0m, in \u001b[0;36mpandas._libs.hashtable.PyObjectHashTable.get_item\u001b[1;34m()\u001b[0m\n",
      "\u001b[1;31mKeyError\u001b[0m: 'cosine'",
      "\nThe above exception was the direct cause of the following exception:\n",
      "\u001b[1;31mKeyError\u001b[0m                                  Traceback (most recent call last)",
      "Cell \u001b[1;32mIn[153], line 1\u001b[0m\n\u001b[1;32m----> 1\u001b[0m max_count \u001b[38;5;241m=\u001b[39m \u001b[43mtrain\u001b[49m\u001b[43m[\u001b[49m\u001b[38;5;124;43m'\u001b[39;49m\u001b[38;5;124;43mcosine\u001b[39;49m\u001b[38;5;124;43m'\u001b[39;49m\u001b[43m]\u001b[49m\u001b[38;5;241m.\u001b[39mmax()\n",
      "File \u001b[1;32m~\\AppData\\Local\\Programs\\Python\\Python311\\Lib\\site-packages\\pandas\\core\\frame.py:3807\u001b[0m, in \u001b[0;36mDataFrame.__getitem__\u001b[1;34m(self, key)\u001b[0m\n\u001b[0;32m   3805\u001b[0m \u001b[38;5;28;01mif\u001b[39;00m \u001b[38;5;28mself\u001b[39m\u001b[38;5;241m.\u001b[39mcolumns\u001b[38;5;241m.\u001b[39mnlevels \u001b[38;5;241m>\u001b[39m \u001b[38;5;241m1\u001b[39m:\n\u001b[0;32m   3806\u001b[0m     \u001b[38;5;28;01mreturn\u001b[39;00m \u001b[38;5;28mself\u001b[39m\u001b[38;5;241m.\u001b[39m_getitem_multilevel(key)\n\u001b[1;32m-> 3807\u001b[0m indexer \u001b[38;5;241m=\u001b[39m \u001b[38;5;28;43mself\u001b[39;49m\u001b[38;5;241;43m.\u001b[39;49m\u001b[43mcolumns\u001b[49m\u001b[38;5;241;43m.\u001b[39;49m\u001b[43mget_loc\u001b[49m\u001b[43m(\u001b[49m\u001b[43mkey\u001b[49m\u001b[43m)\u001b[49m\n\u001b[0;32m   3808\u001b[0m \u001b[38;5;28;01mif\u001b[39;00m is_integer(indexer):\n\u001b[0;32m   3809\u001b[0m     indexer \u001b[38;5;241m=\u001b[39m [indexer]\n",
      "File \u001b[1;32m~\\AppData\\Local\\Programs\\Python\\Python311\\Lib\\site-packages\\pandas\\core\\indexes\\base.py:3804\u001b[0m, in \u001b[0;36mIndex.get_loc\u001b[1;34m(self, key, method, tolerance)\u001b[0m\n\u001b[0;32m   3802\u001b[0m     \u001b[38;5;28;01mreturn\u001b[39;00m \u001b[38;5;28mself\u001b[39m\u001b[38;5;241m.\u001b[39m_engine\u001b[38;5;241m.\u001b[39mget_loc(casted_key)\n\u001b[0;32m   3803\u001b[0m \u001b[38;5;28;01mexcept\u001b[39;00m \u001b[38;5;167;01mKeyError\u001b[39;00m \u001b[38;5;28;01mas\u001b[39;00m err:\n\u001b[1;32m-> 3804\u001b[0m     \u001b[38;5;28;01mraise\u001b[39;00m \u001b[38;5;167;01mKeyError\u001b[39;00m(key) \u001b[38;5;28;01mfrom\u001b[39;00m \u001b[38;5;21;01merr\u001b[39;00m\n\u001b[0;32m   3805\u001b[0m \u001b[38;5;28;01mexcept\u001b[39;00m \u001b[38;5;167;01mTypeError\u001b[39;00m:\n\u001b[0;32m   3806\u001b[0m     \u001b[38;5;66;03m# If we have a listlike key, _check_indexing_error will raise\u001b[39;00m\n\u001b[0;32m   3807\u001b[0m     \u001b[38;5;66;03m#  InvalidIndexError. Otherwise we fall through and re-raise\u001b[39;00m\n\u001b[0;32m   3808\u001b[0m     \u001b[38;5;66;03m#  the TypeError.\u001b[39;00m\n\u001b[0;32m   3809\u001b[0m     \u001b[38;5;28mself\u001b[39m\u001b[38;5;241m.\u001b[39m_check_indexing_error(key)\n",
      "\u001b[1;31mKeyError\u001b[0m: 'cosine'"
     ]
    }
   ],
   "source": [
    "max_count = train['cosine'].max()\n"
   ]
  },
  {
   "cell_type": "code",
   "execution_count": null,
   "id": "300ae2ab",
   "metadata": {},
   "outputs": [],
   "source": [
    "max_rows = train[train['jaccard'] == max_count]\n",
    "\n",
    "# Print the rows with the maximum count\n",
    "max_rows.head()"
   ]
  },
  {
   "cell_type": "code",
   "execution_count": null,
   "id": "957268f8",
   "metadata": {},
   "outputs": [],
   "source": [
    "max_rows[\"java\"].iloc[0]\n"
   ]
  },
  {
   "cell_type": "code",
   "execution_count": null,
   "id": "4275baa1",
   "metadata": {},
   "outputs": [],
   "source": [
    "max_rows[\"c#\"].iloc[0]"
   ]
  },
  {
   "cell_type": "code",
   "execution_count": null,
   "id": "695affdd",
   "metadata": {},
   "outputs": [],
   "source": [
    "prompt='translate from java => c# '+max_rows[\"java\"].iloc[0]+' => '+max_rows[\"c#\"].iloc[0]+'\\n Scanner mys = new Scanner(System.in) =>'\n",
    "print(prompt)\n"
   ]
  },
  {
   "cell_type": "code",
   "execution_count": null,
   "id": "251afa2e",
   "metadata": {},
   "outputs": [],
   "source": []
  },
  {
   "cell_type": "code",
   "execution_count": null,
   "id": "60a9fbfa",
   "metadata": {},
   "outputs": [],
   "source": []
  },
  {
   "cell_type": "code",
   "execution_count": null,
   "id": "b17767d8",
   "metadata": {},
   "outputs": [],
   "source": []
  },
  {
   "cell_type": "code",
   "execution_count": null,
   "id": "206484a6",
   "metadata": {},
   "outputs": [],
   "source": []
  },
  {
   "cell_type": "code",
   "execution_count": null,
   "id": "830a6b2a",
   "metadata": {},
   "outputs": [],
   "source": []
  },
  {
   "cell_type": "code",
   "execution_count": 159,
   "id": "32308f57",
   "metadata": {
    "scrolled": false
   },
   "outputs": [
    {
     "name": "stdout",
     "output_type": "stream",
     "text": [
      "[13912, 27, 10100, 11, 34142, 29, 318, 72, 62, 8899, 796, 649, 21059, 13912, 27, 29, 9783, 220]\n",
      "Translate from java to c#: Map<String, Integer> isi_map = new HashMap<>(); \n",
      "\n",
      "***********************************************\n",
      "Biggest match:  Map<String, Integer> map = new HashMap<>();  \n",
      "cosine coefficient: 0.778498944161523 \n",
      "***********************************************\n",
      "Final prompt:\n",
      "\n",
      "translate from java => c# :\n",
      "Map<String, Integer> map = new HashMap<>(); => Dictionary<string, int> map = new Dictionary<string, int>();\n",
      "Map<String, Integer> isi_map = new HashMap<>(); =>\n"
     ]
    }
   ],
   "source": [
    "lst=tokenizer('Map<String, Integer> isi_map = new HashMap<>(); ')['input_ids']\n",
    "\n",
    "print(lst)\n",
    "\n",
    "train['cosine'] = train['tokens_java'].apply(lambda x: cosine_similarity(x, lst))\n",
    "\n",
    "max_count1 = train['cosine'].max()\n",
    "\n",
    "max_rows1 = train[train['cosine'] == max_count1]\n",
    "print('Translate from java to c#: Map<String, Integer> isi_map = new HashMap<>(); \\n')\n",
    "\n",
    "\n",
    "print(\"***********************************************\")\n",
    "print(\"Biggest match: \" ,max_rows1[\"java\"].iloc[0],\" \\ncosine coefficient:\",max_rows1[\"cosine\"].iloc[0],'\\n***********************************************')\n",
    "\n",
    "\n",
    "\n",
    "\n",
    "print('Final prompt:\\n')\n",
    "prompt='translate from java => c# :\\n'+max_rows[\"java\"].iloc[0]+' => '+max_rows[\"c#\"].iloc[0]+'\\nMap<String, Integer> isi_map = new HashMap<>(); =>' \n",
    "print(prompt)\n"
   ]
  },
  {
   "cell_type": "code",
   "execution_count": 156,
   "id": "8c96ff1d",
   "metadata": {},
   "outputs": [
    {
     "data": {
      "text/html": [
       "<div>\n",
       "<style scoped>\n",
       "    .dataframe tbody tr th:only-of-type {\n",
       "        vertical-align: middle;\n",
       "    }\n",
       "\n",
       "    .dataframe tbody tr th {\n",
       "        vertical-align: top;\n",
       "    }\n",
       "\n",
       "    .dataframe thead th {\n",
       "        text-align: right;\n",
       "    }\n",
       "</style>\n",
       "<table border=\"1\" class=\"dataframe\">\n",
       "  <thead>\n",
       "    <tr style=\"text-align: right;\">\n",
       "      <th></th>\n",
       "      <th>java</th>\n",
       "      <th>c#</th>\n",
       "      <th>tokens_java</th>\n",
       "      <th>tokens_c#</th>\n",
       "      <th>cosine</th>\n",
       "    </tr>\n",
       "  </thead>\n",
       "  <tbody>\n",
       "    <tr>\n",
       "      <th>543</th>\n",
       "      <td>List&lt;Integer&gt; list = Arrays.asList(1, 2, 3, 4,...</td>\n",
       "      <td>List&lt;int&gt; list = new List&lt;int&gt; {1, 2, 3, 4, 5};</td>\n",
       "      <td>[8053, 27, 46541, 29, 1351, 796, 943, 20477, 1...</td>\n",
       "      <td>[8053, 27, 600, 29, 1351, 796, 649, 7343, 27, ...</td>\n",
       "      <td>0.243432</td>\n",
       "    </tr>\n",
       "    <tr>\n",
       "      <th>544</th>\n",
       "      <td>Map&lt;String, Integer&gt; map = new HashMap&lt;&gt;();</td>\n",
       "      <td>Dictionary&lt;string, int&gt; map = new Dictionary&lt;s...</td>\n",
       "      <td>[13912, 27, 10100, 11, 34142, 29, 3975, 796, 6...</td>\n",
       "      <td>[35, 14188, 27, 8841, 11, 493, 29, 3975, 796, ...</td>\n",
       "      <td>0.778499</td>\n",
       "    </tr>\n",
       "    <tr>\n",
       "      <th>545</th>\n",
       "      <td>Date date = new Date();</td>\n",
       "      <td>DateTime date = DateTime.Now;</td>\n",
       "      <td>[10430, 3128, 796, 649, 7536, 9783]</td>\n",
       "      <td>[10430, 7575, 3128, 796, 7536, 7575, 13, 3844,...</td>\n",
       "      <td>0.316228</td>\n",
       "    </tr>\n",
       "    <tr>\n",
       "      <th>546</th>\n",
       "      <td>Random random = new Random();</td>\n",
       "      <td>Random random = new Random();</td>\n",
       "      <td>[29531, 4738, 796, 649, 14534, 9783]</td>\n",
       "      <td>[29531, 4738, 796, 649, 14534, 9783]</td>\n",
       "      <td>0.316228</td>\n",
       "    </tr>\n",
       "    <tr>\n",
       "      <th>547</th>\n",
       "      <td>Scanner scanner = new Scanner(System.in);</td>\n",
       "      <td>Scanner scanner = new Scanner(Console.In);</td>\n",
       "      <td>[33351, 1008, 27474, 796, 649, 20937, 1008, 7,...</td>\n",
       "      <td>[33351, 1008, 27474, 796, 649, 20937, 1008, 7,...</td>\n",
       "      <td>0.155700</td>\n",
       "    </tr>\n",
       "  </tbody>\n",
       "</table>\n",
       "</div>"
      ],
      "text/plain": [
       "                                                  java  \\\n",
       "543  List<Integer> list = Arrays.asList(1, 2, 3, 4,...   \n",
       "544        Map<String, Integer> map = new HashMap<>();   \n",
       "545                            Date date = new Date();   \n",
       "546                      Random random = new Random();   \n",
       "547          Scanner scanner = new Scanner(System.in);   \n",
       "\n",
       "                                                    c#  \\\n",
       "543    List<int> list = new List<int> {1, 2, 3, 4, 5};   \n",
       "544  Dictionary<string, int> map = new Dictionary<s...   \n",
       "545                      DateTime date = DateTime.Now;   \n",
       "546                      Random random = new Random();   \n",
       "547         Scanner scanner = new Scanner(Console.In);   \n",
       "\n",
       "                                           tokens_java  \\\n",
       "543  [8053, 27, 46541, 29, 1351, 796, 943, 20477, 1...   \n",
       "544  [13912, 27, 10100, 11, 34142, 29, 3975, 796, 6...   \n",
       "545                [10430, 3128, 796, 649, 7536, 9783]   \n",
       "546               [29531, 4738, 796, 649, 14534, 9783]   \n",
       "547  [33351, 1008, 27474, 796, 649, 20937, 1008, 7,...   \n",
       "\n",
       "                                             tokens_c#    cosine  \n",
       "543  [8053, 27, 600, 29, 1351, 796, 649, 7343, 27, ...  0.243432  \n",
       "544  [35, 14188, 27, 8841, 11, 493, 29, 3975, 796, ...  0.778499  \n",
       "545  [10430, 7575, 3128, 796, 7536, 7575, 13, 3844,...  0.316228  \n",
       "546               [29531, 4738, 796, 649, 14534, 9783]  0.316228  \n",
       "547  [33351, 1008, 27474, 796, 649, 20937, 1008, 7,...  0.155700  "
      ]
     },
     "execution_count": 156,
     "metadata": {},
     "output_type": "execute_result"
    }
   ],
   "source": [
    "train.tail()"
   ]
  },
  {
   "cell_type": "code",
   "execution_count": null,
   "id": "d89664bd",
   "metadata": {},
   "outputs": [],
   "source": []
  },
  {
   "cell_type": "code",
   "execution_count": null,
   "id": "46b0041d",
   "metadata": {},
   "outputs": [],
   "source": []
  },
  {
   "cell_type": "code",
   "execution_count": null,
   "id": "50cf30a2",
   "metadata": {},
   "outputs": [],
   "source": []
  },
  {
   "cell_type": "code",
   "execution_count": null,
   "id": "40957706",
   "metadata": {},
   "outputs": [],
   "source": []
  }
 ],
 "metadata": {
  "kernelspec": {
   "display_name": "Python 3 (ipykernel)",
   "language": "python",
   "name": "python3"
  },
  "language_info": {
   "codemirror_mode": {
    "name": "ipython",
    "version": 3
   },
   "file_extension": ".py",
   "mimetype": "text/x-python",
   "name": "python",
   "nbconvert_exporter": "python",
   "pygments_lexer": "ipython3",
   "version": "3.11.2"
  }
 },
 "nbformat": 4,
 "nbformat_minor": 5
}
